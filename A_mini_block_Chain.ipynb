{
  "nbformat": 4,
  "nbformat_minor": 0,
  "metadata": {
    "colab": {
      "provenance": [],
      "authorship_tag": "ABX9TyMVIirzJi9LOVTZ0pmmkap2",
      "include_colab_link": true
    },
    "kernelspec": {
      "name": "python3",
      "display_name": "Python 3"
    },
    "language_info": {
      "name": "python"
    }
  },
  "cells": [
    {
      "cell_type": "markdown",
      "metadata": {
        "id": "view-in-github",
        "colab_type": "text"
      },
      "source": [
        "<a href=\"https://colab.research.google.com/github/srisri2004/github-pages/blob/main/A_mini_block_Chain.ipynb\" target=\"_parent\"><img src=\"https://colab.research.google.com/assets/colab-badge.svg\" alt=\"Open In Colab\"/></a>"
      ]
    },
    {
      "cell_type": "code",
      "execution_count": 1,
      "metadata": {
        "colab": {
          "base_uri": "https://localhost:8080/"
        },
        "id": "_iHSiOTel-o0",
        "outputId": "743af84f-c8ad-420e-ebc9-60649a2ef165"
      },
      "outputs": [
        {
          "output_type": "stream",
          "name": "stdout",
          "text": [
            "Mining block 1...\n",
            "Mining block 2...\n",
            "Mining block 3...\n",
            "\n",
            "Block 0:\n",
            "Timestamp: 1746854105.6804733\n",
            "Data: Genesis Block\n",
            "Hash: 0000f9fba594ced7265c1dfb1996f9c7a21513e4dd0e9a9fe69e8fa674577595\n",
            "Previous Hash: 0\n",
            "Nonce: 212577\n",
            "\n",
            "Block 1:\n",
            "Timestamp: 1746854107.5835888\n",
            "Data: First block data\n",
            "Hash: 00002d3106ab0ef98b5db3383934fcb816ca9382cc3d6aca29d249095d1e79b2\n",
            "Previous Hash: 0000f9fba594ced7265c1dfb1996f9c7a21513e4dd0e9a9fe69e8fa674577595\n",
            "Nonce: 24141\n",
            "\n",
            "Block 2:\n",
            "Timestamp: 1746854107.7309835\n",
            "Data: Second block data\n",
            "Hash: 0000313fd0f252b86162163ffc5ea298a47fb5e2901d33f1797c51407c778d67\n",
            "Previous Hash: 00002d3106ab0ef98b5db3383934fcb816ca9382cc3d6aca29d249095d1e79b2\n",
            "Nonce: 47456\n",
            "\n",
            "Block 3:\n",
            "Timestamp: 1746854108.307012\n",
            "Data: Third block data\n",
            "Hash: 0000170968cf958c23ae1c48cc515187e12901b9d6c7d82ef4cecc88b9cb4e80\n",
            "Previous Hash: 0000313fd0f252b86162163ffc5ea298a47fb5e2901d33f1797c51407c778d67\n",
            "Nonce: 46567\n",
            "\n",
            "Is Blockchain Valid? True\n"
          ]
        }
      ],
      "source": [
        "import hashlib\n",
        "import time\n",
        "\n",
        "class Block:\n",
        "    def __init__(self, index, data, previous_hash, timestamp=None):\n",
        "        self.index = index\n",
        "        self.timestamp = timestamp or time.time()\n",
        "        self.data = data\n",
        "        self.previous_hash = previous_hash\n",
        "        self.nonce = 0\n",
        "        self.hash = self.compute_hash()\n",
        "\n",
        "    def compute_hash(self):\n",
        "        block_string = f\"{self.index}{self.timestamp}{self.data}{self.previous_hash}{self.nonce}\"\n",
        "        return hashlib.sha256(block_string.encode()).hexdigest()\n",
        "\n",
        "    def proof_of_work(self, difficulty):\n",
        "        while self.hash[:difficulty] != '0' * difficulty:\n",
        "            self.nonce += 1\n",
        "            self.hash = self.compute_hash()\n",
        "        return self.hash\n",
        "\n",
        "class Blockchain:\n",
        "    def __init__(self):\n",
        "        self.chain = []\n",
        "        self.difficulty = 4\n",
        "        self.create_genesis_block()\n",
        "\n",
        "    def create_genesis_block(self):\n",
        "        genesis_block = Block(0, \"Genesis Block\", \"0\")\n",
        "        genesis_block.proof_of_work(self.difficulty)\n",
        "        self.chain.append(genesis_block)\n",
        "\n",
        "    def get_last_block(self):\n",
        "        return self.chain[-1]\n",
        "\n",
        "    def add_block(self, data):\n",
        "        last_block = self.get_last_block()\n",
        "        new_block = Block(index=last_block.index + 1, data=data, previous_hash=last_block.hash)\n",
        "        print(f\"Mining block {new_block.index}...\")\n",
        "        new_block.proof_of_work(self.difficulty)\n",
        "        self.chain.append(new_block)\n",
        "\n",
        "    def is_chain_valid(self):\n",
        "        for i in range(1, len(self.chain)):\n",
        "            curr = self.chain[i]\n",
        "            prev = self.chain[i - 1]\n",
        "\n",
        "            if curr.hash != curr.compute_hash():\n",
        "                return False\n",
        "            if curr.previous_hash != prev.hash:\n",
        "                return False\n",
        "        return True\n",
        "\n",
        "# Test the blockchain\n",
        "if __name__ == \"__main__\":\n",
        "    blockchain = Blockchain()\n",
        "\n",
        "    blockchain.add_block(\"First block data\")\n",
        "    blockchain.add_block(\"Second block data\")\n",
        "    blockchain.add_block(\"Third block data\")\n",
        "\n",
        "    for block in blockchain.chain:\n",
        "        print(f\"\\nBlock {block.index}:\")\n",
        "        print(f\"Timestamp: {block.timestamp}\")\n",
        "        print(f\"Data: {block.data}\")\n",
        "        print(f\"Hash: {block.hash}\")\n",
        "        print(f\"Previous Hash: {block.previous_hash}\")\n",
        "        print(f\"Nonce: {block.nonce}\")\n",
        "\n",
        "    print(\"\\nIs Blockchain Valid?\", blockchain.is_chain_valid())\n",
        "\n"
      ]
    }
  ]
}